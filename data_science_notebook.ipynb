{
  "nbformat": 4,
  "nbformat_minor": 0,
  "metadata": {
    "colab": {
      "provenance": [],
      "authorship_tag": "ABX9TyORq3cpC9H+rYiqGAW/Rzmq",
      "include_colab_link": true
    },
    "kernelspec": {
      "name": "python3",
      "display_name": "Python 3"
    },
    "language_info": {
      "name": "python"
    }
  },
  "cells": [
    {
      "cell_type": "markdown",
      "metadata": {
        "id": "view-in-github",
        "colab_type": "text"
      },
      "source": [
        "<a href=\"https://colab.research.google.com/github/Dineshkundo/11ambatch2023/blob/main/data_science_notebook.ipynb\" target=\"_parent\"><img src=\"https://colab.research.google.com/assets/colab-badge.svg\" alt=\"Open In Colab\"/></a>"
      ]
    },
    {
      "cell_type": "markdown",
      "source": [
        "##Ingest\n"
      ],
      "metadata": {
        "id": "WPaUF8lUaVDX"
      }
    },
    {
      "cell_type": "code",
      "execution_count": null,
      "metadata": {
        "id": "mUwkaCZNZ8bD"
      },
      "outputs": [],
      "source": []
    },
    {
      "cell_type": "markdown",
      "source": [],
      "metadata": {
        "id": "qmGSN-n2aI_b"
      }
    },
    {
      "cell_type": "markdown",
      "source": [
        "## EDA"
      ],
      "metadata": {
        "id": "PC5qTaMta2km"
      }
    },
    {
      "cell_type": "code",
      "source": [],
      "metadata": {
        "id": "-A6HU5JEbBuk"
      },
      "execution_count": null,
      "outputs": []
    },
    {
      "cell_type": "markdown",
      "source": [
        "## Modeling\n"
      ],
      "metadata": {
        "id": "4znZpxn0avgS"
      }
    },
    {
      "cell_type": "code",
      "source": [],
      "metadata": {
        "id": "9fdgYkTMbS35"
      },
      "execution_count": null,
      "outputs": []
    },
    {
      "cell_type": "markdown",
      "source": [
        "## Classification Algorithm A"
      ],
      "metadata": {
        "id": "ptd-TCDobX9J"
      }
    },
    {
      "cell_type": "code",
      "source": [],
      "metadata": {
        "id": "d7RFU7g4bfOT"
      },
      "execution_count": null,
      "outputs": []
    },
    {
      "cell_type": "markdown",
      "source": [
        "## Classification Algorithm B"
      ],
      "metadata": {
        "id": "gmqMSBvTbhWR"
      }
    },
    {
      "cell_type": "code",
      "source": [],
      "metadata": {
        "id": "fTcareZSbm3I"
      },
      "execution_count": null,
      "outputs": []
    },
    {
      "cell_type": "markdown",
      "source": [
        "##Conclusion"
      ],
      "metadata": {
        "id": "4gU6uy8TbGnT"
      }
    },
    {
      "cell_type": "code",
      "source": [],
      "metadata": {
        "id": "vYg3szFdayne"
      },
      "execution_count": null,
      "outputs": []
    },
    {
      "cell_type": "code",
      "source": [],
      "metadata": {
        "id": "z30xUGbJbL7I"
      },
      "execution_count": null,
      "outputs": []
    }
  ]
}